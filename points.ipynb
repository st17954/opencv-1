{
 "metadata": {
  "language_info": {
   "codemirror_mode": {
    "name": "ipython",
    "version": 3
   },
   "file_extension": ".py",
   "mimetype": "text/x-python",
   "name": "python",
   "nbconvert_exporter": "python",
   "pygments_lexer": "ipython3",
   "version": "3.9.6"
  },
  "orig_nbformat": 4,
  "kernelspec": {
   "name": "python3",
   "display_name": "Python 3.9.6 64-bit"
  },
  "interpreter": {
   "hash": "ca585555a2867b459a38eaf8b2b47956aef7a6f770e52f1f5dfa1f8f05e57688"
  }
 },
 "nbformat": 4,
 "nbformat_minor": 2,
 "cells": [
  {
   "cell_type": "code",
   "execution_count": 6,
   "metadata": {},
   "outputs": [
    {
     "output_type": "stream",
     "name": "stdout",
     "text": [
      "583   406\n",
      "708   375\n",
      "847   388\n",
      "837   319\n",
      "1193   158\n",
      "1178   202\n",
      "1216   200\n",
      "1202   326\n"
     ]
    }
   ],
   "source": [
    "# importing the module\n",
    "import cv2\n",
    "\n",
    "# function to display the coordinates of\n",
    "# of the points clicked on the image\n",
    "def click_event(event, x, y, flags, params):\n",
    "\n",
    "\t# checking for left mouse clicks\n",
    "\tif event == cv2.EVENT_LBUTTONDOWN:\n",
    "\n",
    "\t\t# displaying the coordinates\n",
    "\t\t# on the Shell\n",
    "\t\tprint(x, ' ', y)\n",
    "\n",
    "\t\t# displaying the coordinates\n",
    "\t\t# on the image window\n",
    "\t\tfont = cv2.FONT_HERSHEY_SIMPLEX\n",
    "\t\tcv2.putText(img, str(x) + ',' +\n",
    "\t\t\t\t\tstr(y), (x,y), font,\n",
    "\t\t\t\t\t1, (255, 0, 0), 2)\n",
    "\t\tcv2.imshow('image', img)\n",
    "\n",
    "\t# checking for right mouse clicks\t\n",
    "\tif event==cv2.EVENT_RBUTTONDOWN:\n",
    "\n",
    "\t\t# displaying the coordinates\n",
    "\t\t# on the Shell\n",
    "\t\tprint(x, ' ', y)\n",
    "\n",
    "\t\t# displaying the coordinates\n",
    "\t\t# on the image window\n",
    "\t\tfont = cv2.FONT_HERSHEY_SIMPLEX\n",
    "\t\tb = img[y, x, 0]\n",
    "\t\tg = img[y, x, 1]\n",
    "\t\tr = img[y, x, 2]\n",
    "\t\tcv2.putText(img, str(b) + ',' +\n",
    "\t\t\t\t\tstr(g) + ',' + str(r),\n",
    "\t\t\t\t\t(x,y), font, 1,\n",
    "\t\t\t\t\t(255, 255, 0), 2)\n",
    "\t\tcv2.imshow('image', img)\n",
    "\n",
    "# driver function\n",
    "if __name__==\"__main__\":\n",
    "\n",
    "\t# reading the image\n",
    "\timg = cv2.imread('final2.png', 1)\n",
    "\n",
    "\t# displaying the image\n",
    "\tcv2.imshow('image', img)\n",
    "\n",
    "\t# setting mouse handler for the image\n",
    "\t# and calling the click_event() function\n",
    "\tcv2.setMouseCallback('image', click_event)\n",
    "\n",
    "\t# wait for a key to be pressed to exit\n",
    "\tcv2.waitKey(0)\n",
    "\n",
    "\t# close the window\n",
    "\tcv2.destroyAllWindows()\n"
   ]
  },
  {
   "cell_type": "code",
   "execution_count": null,
   "metadata": {},
   "outputs": [],
   "source": []
  }
 ]
}